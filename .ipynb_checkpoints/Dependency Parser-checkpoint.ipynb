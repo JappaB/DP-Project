{
 "cells": [
  {
   "cell_type": "code",
   "execution_count": 1,
   "metadata": {
    "collapsed": true
   },
   "outputs": [],
   "source": [
    "%matplotlib inline\n",
    "import matplotlib\n",
    "import numpy as np\n",
    "import matplotlib.pyplot as plt"
   ]
  },
  {
   "cell_type": "code",
   "execution_count": 62,
   "metadata": {
    "collapsed": false
   },
   "outputs": [
    {
     "name": "stdout",
     "output_type": "stream",
     "text": [
      "lines parsed:  242774\n",
      "[{0: '1', 1: 'Al', 2: 'Al', 3: 'PROPN', 4: 'NNP', 5: 'Number=Sing', 6: '0', 7: 'root', 8: '_', 9: 'SpaceAfter=No'}, {0: '2', 1: '-', 2: '-', 3: 'PUNCT', 4: 'HYPH', 5: '_', 6: '1', 7: 'punct', 8: '_', 9: 'SpaceAfter=No'}, {0: '3', 1: 'Zaman', 2: 'Zaman', 3: 'PROPN', 4: 'NNP', 5: 'Number=Sing', 6: '1', 7: 'flat', 8: '_', 9: '_'}, {0: '4', 1: ':', 2: ':', 3: 'PUNCT', 4: ':', 5: '_', 6: '1', 7: 'punct', 8: '_', 9: '_'}, {0: '5', 1: 'American', 2: 'american', 3: 'ADJ', 4: 'JJ', 5: 'Degree=Pos', 6: '6', 7: 'amod', 8: '_', 9: '_'}, {0: '6', 1: 'forces', 2: 'force', 3: 'NOUN', 4: 'NNS', 5: 'Number=Plur', 6: '7', 7: 'nsubj', 8: '_', 9: '_'}, {0: '7', 1: 'killed', 2: 'kill', 3: 'VERB', 4: 'VBD', 5: 'Mood=Ind|Tense=Past|VerbForm=Fin', 6: '1', 7: 'parataxis', 8: '_', 9: '_'}, {0: '8', 1: 'Shaikh', 2: 'Shaikh', 3: 'PROPN', 4: 'NNP', 5: 'Number=Sing', 6: '7', 7: 'obj', 8: '_', 9: '_'}, {0: '9', 1: 'Abdullah', 2: 'Abdullah', 3: 'PROPN', 4: 'NNP', 5: 'Number=Sing', 6: '8', 7: 'flat', 8: '_', 9: '_'}, {0: '10', 1: 'al', 2: 'al', 3: 'PROPN', 4: 'NNP', 5: 'Number=Sing', 6: '8', 7: 'flat', 8: '_', 9: 'SpaceAfter=No'}]\n"
     ]
    }
   ],
   "source": [
    "import os\n",
    "\n",
    "path = os.path.join(\"data\",\"en-ud-train.conllu\")\n",
    "\n",
    "def read(path):\n",
    "    with open(path, 'r', encoding = 'utf8') as f:\n",
    "        data =[]\n",
    "        \n",
    "        #linenumber for debugging\n",
    "        linenumber = 0\n",
    "        \n",
    "        for line in f:\n",
    "            \n",
    "            #empty linedict\n",
    "            linedict = {}\n",
    "            linenumber +=1\n",
    "            \n",
    "            # Skip newdoc id and skip sentence id. Skip whitelines\n",
    "            if line[0] in ['#','r\\n','\\n']:\n",
    "                continue\n",
    "                \n",
    "            # strip tabs\n",
    "            parts = line.strip().split(\"\\t\") \n",
    "            \n",
    "            # Make sure that all lines have the same structure \n",
    "            if len(parts) != 10:\n",
    "                print(linenumber)\n",
    "                print(parts)\n",
    "                print('not same structure')\n",
    "                break\n",
    "            \n",
    "            # fill linedict\n",
    "            for i, part in enumerate(parts):\n",
    "                linedict[i] = part\n",
    "            \n",
    "            data.append(linedict)\n",
    "\n",
    "        # Check if it parsed all lines\n",
    "        print('lines parsed: ',linenumber)\n",
    "        return data\n",
    "\n",
    "eng_train = read(path)\n",
    "print(eng_train[0:10])"
   ]
  },
  {
   "cell_type": "code",
   "execution_count": null,
   "metadata": {
    "collapsed": true
   },
   "outputs": [],
   "source": []
  }
 ],
 "metadata": {
  "kernelspec": {
   "display_name": "Python 3",
   "language": "python",
   "name": "python3"
  },
  "language_info": {
   "codemirror_mode": {
    "name": "ipython",
    "version": 3
   },
   "file_extension": ".py",
   "mimetype": "text/x-python",
   "name": "python",
   "nbconvert_exporter": "python",
   "pygments_lexer": "ipython3",
   "version": "3.6.0"
  }
 },
 "nbformat": 4,
 "nbformat_minor": 2
}
