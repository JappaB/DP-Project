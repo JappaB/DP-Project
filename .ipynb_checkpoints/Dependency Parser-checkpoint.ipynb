{
 "cells": [
  {
   "cell_type": "code",
   "execution_count": 165,
   "metadata": {
    "collapsed": true
   },
   "outputs": [],
   "source": [
    "%matplotlib inline\n",
    "import matplotlib\n",
    "import numpy as np\n",
    "import matplotlib.pyplot as plt"
   ]
  },
  {
   "cell_type": "code",
   "execution_count": 195,
   "metadata": {
    "collapsed": false
   },
   "outputs": [
    {
     "name": "stdout",
     "output_type": "stream",
     "text": [
      "lines parsed:  242774\n",
      "12542\n",
      "[[{0: '1', 1: 'Al', 2: 'Al', 3: 'PROPN', 4: 'NNP', 5: 'Number=Sing', 6: '0', 7: 'root', 8: '_', 9: 'SpaceAfter=No'}, {0: '2', 1: '-', 2: '-', 3: 'PUNCT', 4: 'HYPH', 5: '_', 6: '1', 7: 'punct', 8: '_', 9: 'SpaceAfter=No'}, {0: '3', 1: 'Zaman', 2: 'Zaman', 3: 'PROPN', 4: 'NNP', 5: 'Number=Sing', 6: '1', 7: 'flat', 8: '_', 9: '_'}, {0: '4', 1: ':', 2: ':', 3: 'PUNCT', 4: ':', 5: '_', 6: '1', 7: 'punct', 8: '_', 9: '_'}, {0: '5', 1: 'American', 2: 'american', 3: 'ADJ', 4: 'JJ', 5: 'Degree=Pos', 6: '6', 7: 'amod', 8: '_', 9: '_'}, {0: '6', 1: 'forces', 2: 'force', 3: 'NOUN', 4: 'NNS', 5: 'Number=Plur', 6: '7', 7: 'nsubj', 8: '_', 9: '_'}, {0: '7', 1: 'killed', 2: 'kill', 3: 'VERB', 4: 'VBD', 5: 'Mood=Ind|Tense=Past|VerbForm=Fin', 6: '1', 7: 'parataxis', 8: '_', 9: '_'}, {0: '8', 1: 'Shaikh', 2: 'Shaikh', 3: 'PROPN', 4: 'NNP', 5: 'Number=Sing', 6: '7', 7: 'obj', 8: '_', 9: '_'}, {0: '9', 1: 'Abdullah', 2: 'Abdullah', 3: 'PROPN', 4: 'NNP', 5: 'Number=Sing', 6: '8', 7: 'flat', 8: '_', 9: '_'}, {0: '10', 1: 'al', 2: 'al', 3: 'PROPN', 4: 'NNP', 5: 'Number=Sing', 6: '8', 7: 'flat', 8: '_', 9: 'SpaceAfter=No'}, {0: '11', 1: '-', 2: '-', 3: 'PUNCT', 4: 'HYPH', 5: '_', 6: '8', 7: 'punct', 8: '_', 9: 'SpaceAfter=No'}, {0: '12', 1: 'Ani', 2: 'Ani', 3: 'PROPN', 4: 'NNP', 5: 'Number=Sing', 6: '8', 7: 'flat', 8: '_', 9: 'SpaceAfter=No'}, {0: '13', 1: ',', 2: ',', 3: 'PUNCT', 4: ',', 5: '_', 6: '8', 7: 'punct', 8: '_', 9: '_'}, {0: '14', 1: 'the', 2: 'the', 3: 'DET', 4: 'DT', 5: 'Definite=Def|PronType=Art', 6: '15', 7: 'det', 8: '_', 9: '_'}, {0: '15', 1: 'preacher', 2: 'preacher', 3: 'NOUN', 4: 'NN', 5: 'Number=Sing', 6: '8', 7: 'appos', 8: '_', 9: '_'}, {0: '16', 1: 'at', 2: 'at', 3: 'ADP', 4: 'IN', 5: '_', 6: '18', 7: 'case', 8: '_', 9: '_'}, {0: '17', 1: 'the', 2: 'the', 3: 'DET', 4: 'DT', 5: 'Definite=Def|PronType=Art', 6: '18', 7: 'det', 8: '_', 9: '_'}, {0: '18', 1: 'mosque', 2: 'mosque', 3: 'NOUN', 4: 'NN', 5: 'Number=Sing', 6: '7', 7: 'obl', 8: '_', 9: '_'}, {0: '19', 1: 'in', 2: 'in', 3: 'ADP', 4: 'IN', 5: '_', 6: '21', 7: 'case', 8: '_', 9: '_'}, {0: '20', 1: 'the', 2: 'the', 3: 'DET', 4: 'DT', 5: 'Definite=Def|PronType=Art', 6: '21', 7: 'det', 8: '_', 9: '_'}, {0: '21', 1: 'town', 2: 'town', 3: 'NOUN', 4: 'NN', 5: 'Number=Sing', 6: '18', 7: 'nmod', 8: '_', 9: '_'}, {0: '22', 1: 'of', 2: 'of', 3: 'ADP', 4: 'IN', 5: '_', 6: '23', 7: 'case', 8: '_', 9: '_'}, {0: '23', 1: 'Qaim', 2: 'Qaim', 3: 'PROPN', 4: 'NNP', 5: 'Number=Sing', 6: '21', 7: 'nmod', 8: '_', 9: 'SpaceAfter=No'}, {0: '24', 1: ',', 2: ',', 3: 'PUNCT', 4: ',', 5: '_', 6: '21', 7: 'punct', 8: '_', 9: '_'}, {0: '25', 1: 'near', 2: 'near', 3: 'ADP', 4: 'IN', 5: '_', 6: '28', 7: 'case', 8: '_', 9: '_'}, {0: '26', 1: 'the', 2: 'the', 3: 'DET', 4: 'DT', 5: 'Definite=Def|PronType=Art', 6: '28', 7: 'det', 8: '_', 9: '_'}, {0: '27', 1: 'Syrian', 2: 'syrian', 3: 'ADJ', 4: 'JJ', 5: 'Degree=Pos', 6: '28', 7: 'amod', 8: '_', 9: '_'}, {0: '28', 1: 'border', 2: 'border', 3: 'NOUN', 4: 'NN', 5: 'Number=Sing', 6: '21', 7: 'nmod', 8: '_', 9: 'SpaceAfter=No'}, {0: '29', 1: '.', 2: '.', 3: 'PUNCT', 4: '.', 5: '_', 6: '1', 7: 'punct', 8: '_', 9: '_'}], [{0: '1', 1: '[', 2: '[', 3: 'PUNCT', 4: '-LRB-', 5: '_', 6: '10', 7: 'punct', 8: '_', 9: 'SpaceAfter=No'}, {0: '2', 1: 'This', 2: 'this', 3: 'DET', 4: 'DT', 5: 'Number=Sing|PronType=Dem', 6: '3', 7: 'det', 8: '_', 9: '_'}, {0: '3', 1: 'killing', 2: 'killing', 3: 'NOUN', 4: 'NN', 5: 'Number=Sing', 6: '10', 7: 'nsubj', 8: '_', 9: '_'}, {0: '4', 1: 'of', 2: 'of', 3: 'ADP', 4: 'IN', 5: '_', 6: '7', 7: 'case', 8: '_', 9: '_'}, {0: '5', 1: 'a', 2: 'a', 3: 'DET', 4: 'DT', 5: 'Definite=Ind|PronType=Art', 6: '7', 7: 'det', 8: '_', 9: '_'}, {0: '6', 1: 'respected', 2: 'respected', 3: 'ADJ', 4: 'JJ', 5: 'Degree=Pos', 6: '7', 7: 'amod', 8: '_', 9: '_'}, {0: '7', 1: 'cleric', 2: 'cleric', 3: 'NOUN', 4: 'NN', 5: 'Number=Sing', 6: '3', 7: 'nmod', 8: '_', 9: '_'}, {0: '8', 1: 'will', 2: 'will', 3: 'AUX', 4: 'MD', 5: 'VerbForm=Fin', 6: '10', 7: 'aux', 8: '_', 9: '_'}, {0: '9', 1: 'be', 2: 'be', 3: 'AUX', 4: 'VB', 5: 'VerbForm=Inf', 6: '10', 7: 'aux', 8: '_', 9: '_'}, {0: '10', 1: 'causing', 2: 'cause', 3: 'VERB', 4: 'VBG', 5: 'VerbForm=Ger', 6: '0', 7: 'root', 8: '_', 9: '_'}, {0: '11', 1: 'us', 2: 'we', 3: 'PRON', 4: 'PRP', 5: 'Case=Acc|Number=Plur|Person=1|PronType=Prs', 6: '10', 7: 'iobj', 8: '_', 9: '_'}, {0: '12', 1: 'trouble', 2: 'trouble', 3: 'NOUN', 4: 'NN', 5: 'Number=Sing', 6: '10', 7: 'obj', 8: '_', 9: '_'}, {0: '13', 1: 'for', 2: 'for', 3: 'ADP', 4: 'IN', 5: '_', 6: '14', 7: 'case', 8: '_', 9: '_'}, {0: '14', 1: 'years', 2: 'year', 3: 'NOUN', 4: 'NNS', 5: 'Number=Plur', 6: '10', 7: 'obl', 8: '_', 9: '_'}, {0: '15', 1: 'to', 2: 'to', 3: 'PART', 4: 'TO', 5: '_', 6: '16', 7: 'mark', 8: '_', 9: '_'}, {0: '16', 1: 'come', 2: 'come', 3: 'VERB', 4: 'VB', 5: 'VerbForm=Inf', 6: '14', 7: 'acl', 8: '_', 9: 'SpaceAfter=No'}, {0: '17', 1: '.', 2: '.', 3: 'PUNCT', 4: '.', 5: '_', 6: '10', 7: 'punct', 8: '_', 9: 'SpaceAfter=No'}, {0: '18', 1: ']', 2: ']', 3: 'PUNCT', 4: '-RRB-', 5: '_', 6: '10', 7: 'punct', 8: '_', 9: '_'}]]\n"
     ]
    }
   ],
   "source": [
    "import os\n",
    "\n",
    "path = os.path.join(\"data\",\"en-ud-train.conllu\")\n",
    "\n",
    "\n",
    "#TODO: Moeten hier nog de zinnen apart in aangeven\n",
    "def read(path):\n",
    "    with open(path, 'r', encoding = 'utf8') as f:\n",
    "        \n",
    "        data =[]\n",
    "        \n",
    "        # Needed to select sentences\n",
    "        first_sent = True  \n",
    "        previous_line_hashtag = False\n",
    "        \n",
    "        #linenumber for debugging\n",
    "        linenumber = 0\n",
    "        \n",
    "        for line in f:\n",
    "            \n",
    "            #empty linedict\n",
    "            linedict = {}\n",
    "            linenumber +=1\n",
    "            \n",
    "            # Skip newdoc id and skip sentence id. Skip whitelines\n",
    "            if line[0] in ['#','r\\n','\\n']:\n",
    "                if line[0] in ['#']:\n",
    "                    previous_line_hashtag = True                    \n",
    "                continue\n",
    "                \n",
    "            \n",
    "            # empty list for sentence\n",
    "            if (line[0] == '1' and previous_line_hashtag == True):\n",
    "                previous_line_hashtag = False\n",
    "                if first_sent == True:\n",
    "                    sentence = []\n",
    "                    first_sent = False\n",
    "                else:\n",
    "                    data.append(sentence)\n",
    "                    sentence = []\n",
    "            \n",
    "            # strip tabs\n",
    "            parts = line.strip().split(\"\\t\") \n",
    "            \n",
    "            # Make sure that all lines have the same structure \n",
    "            if len(parts) != 10:\n",
    "                print(linenumber)\n",
    "                print(parts)\n",
    "                print('not same structure')\n",
    "                break\n",
    "            \n",
    "            # fill linedict\n",
    "            for i, part in enumerate(parts):\n",
    "                linedict[i] = part\n",
    "            \n",
    "            sentence.append(linedict)\n",
    "\n",
    "        # Check if it parsed all lines\n",
    "        print('lines parsed: ',linenumber)\n",
    "        return data\n",
    "\n",
    "eng_train = read(path)\n",
    "print(len(eng_train))\n",
    "print(eng_train[0:2])"
   ]
  },
  {
   "cell_type": "code",
   "execution_count": 190,
   "metadata": {
    "collapsed": false
   },
   "outputs": [],
   "source": [
    "\n",
    "def Chu_Liu_Edmonds(graph):\n",
    "    '''Every non-root node needs exactly 1 incomming edge\n",
    "    \n",
    "    slides on Chu-Liu-Edmonds\n",
    "    https://courses.cs.washington.edu/courses/cse490u/17wi/slides/CLE.pdf'''\n",
    "    \n",
    "\n",
    "    # initialize MST with -inf, so all values added are higher and thus 'maximum'.\n",
    "    length_sent = len(graph)\n",
    "    MST = np.full([length_sent, length_sent], -np.inf)\n",
    "    \n",
    "    # 'Delete' diagonal, since the highest edge must not be one that points to itself\n",
    "    np.fill_diagonal(graph, -np.inf)\n",
    "    \n",
    "    # Greedily select highest incomming edge\n",
    "    for row in range(length_sent):\n",
    "        max_val=np.max(graph[row,:])\n",
    "        max_index=np.argmax(graph[row,:])\n",
    "        MST[row, max_index] = max_val\n",
    "        \n",
    "#     for column in range(length_sent):\n",
    "#         max_val=np.max(graph[:,column])\n",
    "#         max_index=np.argmax(graph[:,column])\n",
    "#         MST[max_index, column] = max_val\n",
    "    \n",
    "#     print(MST)\n",
    "\n",
    "    # Check if it is a tree, if it is, MST found\n",
    "    tree = True\n",
    "    cycles = []\n",
    "    \n",
    "    #TODO cycles van meer dan 2\n",
    "    for row in range(length_sent):\n",
    "#         Break outerloop if tree is already found to be false by inner loop\n",
    "#         if tree == False:\n",
    "#             break\n",
    "        for column in range(length_sent):\n",
    "            if (MST[row,column] != -np.inf and MST[column,row]!= -np.inf):\n",
    "                cycle = (row,column)\n",
    "                cycles.append(cycle)\n",
    "                tree = False\n",
    "                break\n",
    "                \n",
    "    if tree == True:\n",
    "        return MST                \n",
    "    \n",
    "    # Otherwise, it will contain a cycle C.\n",
    "    \n",
    "    print(cycles)\n",
    "    \n",
    "    \n",
    "    # Arborescences can’t have cycles,\n",
    "    # so we can’t keep every edge in C. One edge in C must get kicked out.\n",
    "\n",
    "    # C also needs an incoming edge.\n",
    "    \n",
    "    # Choosing an incoming edge for C determines which edge to kick out\n",
    "\n",
    "\n",
    "    print(MST)\n",
    "    \n",
    "    \n",
    "\n",
    "    \n",
    "\n",
    "\n",
    "    "
   ]
  },
  {
   "cell_type": "code",
   "execution_count": 162,
   "metadata": {
    "collapsed": false,
    "scrolled": true
   },
   "outputs": [
    {
     "name": "stdout",
     "output_type": "stream",
     "text": [
      "[(0, 0, {'weight': 0.681008685651628}), (0, 1, {'weight': 0.7320177650623149}), (0, 2, {'weight': 0.3910001980775768}), (0, 3, {'weight': 0.9980573669090583}), (0, 4, {'weight': 0.14026808864282703}), (1, 0, {'weight': 0.646663417739158}), (1, 1, {'weight': 0.6448207954061519}), (1, 2, {'weight': 0.38858776821190755}), (1, 3, {'weight': 0.405328220045694}), (1, 4, {'weight': 0.14418906283303778}), (2, 0, {'weight': 0.2547895023650163}), (2, 1, {'weight': 0.20279500580872767}), (2, 2, {'weight': 0.32178463620603426}), (2, 3, {'weight': 0.5805966429400831}), (2, 4, {'weight': 0.6930553569141907}), (3, 0, {'weight': 0.1103973658306252}), (3, 1, {'weight': 0.1691609320778883}), (3, 2, {'weight': 0.7542214099286646}), (3, 3, {'weight': 0.0688799226111505}), (3, 4, {'weight': 0.032262180089018044}), (4, 0, {'weight': 0.7594774910925898}), (4, 1, {'weight': 0.7413471372603583}), (4, 2, {'weight': 0.27307130479598707}), (4, 3, {'weight': 0.6146010311234128}), (4, 4, {'weight': 0.41378760276880033})]\n",
      "[[ 0.68100869  0.73201777  0.3910002   0.99805737  0.14026809]\n",
      " [ 0.64666342  0.6448208   0.38858777  0.40532822  0.14418906]\n",
      " [ 0.2547895   0.20279501  0.32178464  0.58059664  0.69305536]\n",
      " [ 0.11039737  0.16916093  0.75422141  0.06887992  0.03226218]\n",
      " [ 0.75947749  0.74134714  0.2730713   0.61460103  0.4137876 ]]\n"
     ]
    }
   ],
   "source": [
    "import networkx as nx\n",
    "\n",
    "input_sent = '<root> i am tired of this shit'\n",
    "\n",
    "# Make Chu-Liu-Edmonds for a development sentence of len 5\n",
    "develop = np.random.rand(5,5)\n",
    "G = nx.from_numpy_matrix(develop, create_using=nx.DiGraph())\n",
    "\n",
    "print(G.edges(data=True))\n",
    "print(develop)\n",
    "MST = Chu_Liu_Edmonds(develop)\n",
    "\n",
    "\n",
    "\n",
    "# print()\n",
    "\n",
    "# print()\n",
    "# print(G.nodes(data=True))"
   ]
  },
  {
   "cell_type": "code",
   "execution_count": null,
   "metadata": {
    "collapsed": true
   },
   "outputs": [],
   "source": []
  },
  {
   "cell_type": "code",
   "execution_count": null,
   "metadata": {
    "collapsed": true
   },
   "outputs": [],
   "source": []
  }
 ],
 "metadata": {
  "kernelspec": {
   "display_name": "Python 3",
   "language": "python",
   "name": "python3"
  },
  "language_info": {
   "codemirror_mode": {
    "name": "ipython",
    "version": 3
   },
   "file_extension": ".py",
   "mimetype": "text/x-python",
   "name": "python",
   "nbconvert_exporter": "python",
   "pygments_lexer": "ipython3",
   "version": "3.6.0"
  }
 },
 "nbformat": 4,
 "nbformat_minor": 2
}
